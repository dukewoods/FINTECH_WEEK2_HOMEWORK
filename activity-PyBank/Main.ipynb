{
 "cells": [
  {
   "cell_type": "code",
   "execution_count": 1,
   "id": "3e71bae3-6a10-4226-b85c-e4c595249f8d",
   "metadata": {
    "tags": []
   },
   "outputs": [],
   "source": [
    "# This is a Python script for analyzing the financial records of a company. I have provided a financial dataset in this file: budget_data.csv. This dataset is composed of two columns, Date and Profit/Losses. \n",
    "\n",
    "#Import CSV file\n",
    "import numpy as np\n",
    "from pathlib import Path\n",
    "import csv\n",
    "csvpath = Path(\"budget_data.csv\")\n",
    "\n",
    "# Metrics\n",
    "months_total = 0\n",
    "total = 0\n",
    "average_change = 0\n",
    "pre_pl = 0\n",
    "\n",
    "# Initialize list\n",
    "analysis = []\n",
    "date_list = []"
   ]
  },
  {
   "cell_type": "code",
   "execution_count": 2,
   "id": "7c6374b9-d0ec-43f9-ad6a-13c47c440b53",
   "metadata": {
    "tags": []
   },
   "outputs": [
    {
     "name": "stdout",
     "output_type": "stream",
     "text": [
      "Financial Analysis\n",
      "------------------\n",
      "Total Months: 86\n",
      "Total: $38382578\n",
      "Average Change: $-2315.12\n",
      "Greatest Increase in Profits: Feb-2012 $1926159\n",
      "Greatest Decrease in Profits: Sep-2013 $-2196167\n"
     ]
    }
   ],
   "source": [
    "#Open CSV and read mode\n",
    "with open(csvpath, \"r\") as csvfile:\n",
    "    csvreader = csv.reader(csvfile, delimiter=\",\")\n",
    "    csv_header = next(csvreader)\n",
    "    \n",
    "    # The total number of months included in the dataset.  \n",
    "    for row in csvreader:\n",
    "        months_total = months_total + 1\n",
    "        \n",
    "        # The net total amount of Profit/Losses over the entire period.\n",
    "        total += int(row[1])\n",
    "        \n",
    "# The average of the changes in Profit/Losses over the entire period. \n",
    "        average_change = int(row[1]) - pre_pl\n",
    "        pre_pl = int(row[1])\n",
    "        analysis = analysis + [average_change]\n",
    "        date_list.append(row[0])\n",
    "total_average = round(sum(analysis[1:]) / (months_total - 1),2)\n",
    "\n",
    "# The greatest increase in profits (date and amount) over the entire period.\n",
    "max_profits = max(analysis)\n",
    "row_number_max = analysis.index(max_profits) \n",
    "max_date = date_list[row_number_max]\n",
    "\n",
    "# The greatest decrease in losses (date and amount) over the entire period.\n",
    "min_profits = min(analysis)\n",
    "row_number_min = analysis.index(min_profits) \n",
    "min_date = date_list[row_number_min]\n",
    "\n",
    "# Your final script should print the analysis to the terminal\n",
    "print(f\"Financial Analysis\")\n",
    "print(f\"------------------\")\n",
    "print(f\"Total Months: {months_total}\")\n",
    "print(f\"Total: ${total}\")\n",
    "print(f\"Average Change: ${total_average}\")\n",
    "print(f\"Greatest Increase in Profits: {max_date} ${max_profits}\")\n",
    "print(f\"Greatest Decrease in Profits: {min_date} ${min_profits}\")       \n",
    " \n",
    "#export a text file with the results.    \n",
    "\n",
    "#Set output file name\n",
    "output_path = 'output.txt'\n",
    "\n",
    "# Open the output path as a file object\n",
    "with open(output_path, 'w') as file:\n",
    "    file.write(f\"Financial Analysis\\n\")\n",
    "    file.write(f\"------------------\\n\")\n",
    "    file.write(f\"Total Months: {months_total}\\n\")\n",
    "    file.write(f\"Total: ${total}\\n\")\n",
    "    file.write(f\"Average Change: ${total_average}\\n\")\n",
    "    file.write(f\"Greatest Increase in Profits: {max_date} (${max_profits})\\n\")\n",
    "    file.write(f\"Greatest Decrease in Profits: {min_date} (${min_profits})\\n\") \n",
    "\n",
    "\n"
   ]
  },
  {
   "cell_type": "code",
   "execution_count": null,
   "id": "cf7432b7-63b8-4de5-a5e7-1a804072a51b",
   "metadata": {},
   "outputs": [],
   "source": []
  }
 ],
 "metadata": {
  "kernelspec": {
   "display_name": "Python 3 (ipykernel)",
   "language": "python",
   "name": "python3"
  },
  "language_info": {
   "codemirror_mode": {
    "name": "ipython",
    "version": 3
   },
   "file_extension": ".py",
   "mimetype": "text/x-python",
   "name": "python",
   "nbconvert_exporter": "python",
   "pygments_lexer": "ipython3",
   "version": "3.10.11"
  }
 },
 "nbformat": 4,
 "nbformat_minor": 5
}
